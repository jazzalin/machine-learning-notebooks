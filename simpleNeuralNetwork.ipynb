{
 "cells": [
  {
   "cell_type": "code",
   "execution_count": 1,
   "metadata": {},
   "outputs": [
    {
     "name": "stdout",
     "output_type": "stream",
     "text": [
      "Random starting synaptic weights: \n",
      "[[-0.16595599]\n",
      " [ 0.44064899]\n",
      " [-0.99977125]]\n"
     ]
    },
    {
     "ename": "NameError",
     "evalue": "name 'xrange' is not defined",
     "output_type": "error",
     "traceback": [
      "\u001b[0;31m---------------------------------------------------------------------------\u001b[0m",
      "\u001b[0;31mNameError\u001b[0m                                 Traceback (most recent call last)",
      "\u001b[0;32m<ipython-input-1-edf48fa08a6b>\u001b[0m in \u001b[0;36m<module>\u001b[0;34m()\u001b[0m\n\u001b[1;32m     44\u001b[0m \u001b[0;34m\u001b[0m\u001b[0m\n\u001b[1;32m     45\u001b[0m     \u001b[0;31m# Train neural network (10000 iterations)\u001b[0m\u001b[0;34m\u001b[0m\u001b[0;34m\u001b[0m\u001b[0m\n\u001b[0;32m---> 46\u001b[0;31m     \u001b[0mneural_network\u001b[0m\u001b[0;34m.\u001b[0m\u001b[0mtrain\u001b[0m\u001b[0;34m(\u001b[0m\u001b[0mtraining_set_in\u001b[0m\u001b[0;34m,\u001b[0m \u001b[0mtraining_set_out\u001b[0m\u001b[0;34m,\u001b[0m \u001b[0;36m10000\u001b[0m\u001b[0;34m)\u001b[0m\u001b[0;34m;\u001b[0m\u001b[0;34m\u001b[0m\u001b[0m\n\u001b[0m\u001b[1;32m     47\u001b[0m \u001b[0;34m\u001b[0m\u001b[0m\n\u001b[1;32m     48\u001b[0m     \u001b[0mprint\u001b[0m\u001b[0;34m(\u001b[0m\u001b[0;34m\"New synaptic weights after training: \"\u001b[0m\u001b[0;34m)\u001b[0m\u001b[0;34m;\u001b[0m\u001b[0;34m\u001b[0m\u001b[0m\n",
      "\u001b[0;32m<ipython-input-1-edf48fa08a6b>\u001b[0m in \u001b[0;36mtrain\u001b[0;34m(self, training_set_in, training_set_out, num_train_iter)\u001b[0m\n\u001b[1;32m     17\u001b[0m     \u001b[0;32mdef\u001b[0m \u001b[0mtrain\u001b[0m\u001b[0;34m(\u001b[0m\u001b[0mself\u001b[0m\u001b[0;34m,\u001b[0m \u001b[0mtraining_set_in\u001b[0m\u001b[0;34m,\u001b[0m \u001b[0mtraining_set_out\u001b[0m\u001b[0;34m,\u001b[0m \u001b[0mnum_train_iter\u001b[0m\u001b[0;34m)\u001b[0m\u001b[0;34m:\u001b[0m\u001b[0;34m\u001b[0m\u001b[0m\n\u001b[1;32m     18\u001b[0m         \u001b[0;34m\"\"\"Training the neural network\"\"\"\u001b[0m\u001b[0;34m\u001b[0m\u001b[0m\n\u001b[0;32m---> 19\u001b[0;31m         \u001b[0;32mfor\u001b[0m \u001b[0mi\u001b[0m \u001b[0;32min\u001b[0m \u001b[0mxrange\u001b[0m\u001b[0;34m(\u001b[0m\u001b[0mnum_train_iter\u001b[0m\u001b[0;34m)\u001b[0m\u001b[0;34m:\u001b[0m\u001b[0;34m\u001b[0m\u001b[0m\n\u001b[0m\u001b[1;32m     20\u001b[0m             \u001b[0;31m# Pass training set through neural network\u001b[0m\u001b[0;34m\u001b[0m\u001b[0;34m\u001b[0m\u001b[0m\n\u001b[1;32m     21\u001b[0m             \u001b[0moutput\u001b[0m \u001b[0;34m=\u001b[0m \u001b[0mself\u001b[0m\u001b[0;34m.\u001b[0m\u001b[0mthink\u001b[0m\u001b[0;34m(\u001b[0m\u001b[0mtraining_set_in\u001b[0m\u001b[0;34m)\u001b[0m\u001b[0;34m;\u001b[0m\u001b[0;34m\u001b[0m\u001b[0m\n",
      "\u001b[0;31mNameError\u001b[0m: name 'xrange' is not defined"
     ]
    }
   ],
   "source": [
    "# Simple implementation of a neural network (1 \"neuron\")\n",
    "import numpy\n",
    "\n",
    "class NeuralNetwork():\n",
    "    def __init__(self):\n",
    "        random.seed(1);\n",
    "        self.synaptic_weights = 2 * random.random((3,1)) - 1;\n",
    "        \n",
    "    def __sigmoid(self, x):\n",
    "        \"\"\"Sigmoid function\"\"\"\n",
    "        return 1 / (1 + exp(-x));\n",
    "    \n",
    "    def __sig_derivative(self, x):\n",
    "        \"\"\"Gradient of sigmoid function\"\"\"\n",
    "        return x * (1 - x);\n",
    "    \n",
    "    def train(self, training_set_in, training_set_out, num_train_iter):\n",
    "        \"\"\"Training the neural network\"\"\"\n",
    "        for i in xrange(num_train_iter):\n",
    "            # Pass training set through neural network\n",
    "            output = self.think(training_set_in);\n",
    "            \n",
    "            # Error := neuron output - expected output\n",
    "            error = training_set_out - output;\n",
    "            \n",
    "            # Adjust weights\n",
    "            adjustment = dot(training_set_in.T, error * self.__sig_derivative(output));\n",
    "            self.synaptic_weights += adjustment;\n",
    "    \n",
    "    def think(self, inputs):\n",
    "        \"\"\"Neural network thinks: inputs are passed through neuron\"\"\"\n",
    "        return self.__sigmoid(dot(inputs, self.synaptic_weights));\n",
    "\n",
    "if __name__ == '__main__':\n",
    "    # Initialize single neuron neural network\n",
    "    neural_network = NeuralNetwork();\n",
    "    \n",
    "    print(\"Random starting synaptic weights: \");\n",
    "    print(neural_network.synaptic_weights);\n",
    "    \n",
    "    # Training set\n",
    "    training_set_in = array([[0,0,1], [1,1,1], [1,0,1], [0,1,1]]);\n",
    "    training_set_out = array([[0,1,1,0]]).T;\n",
    "    \n",
    "    # Train neural network (10000 iterations)\n",
    "    neural_network.train(training_set_in, training_set_out, 10000);\n",
    "    \n",
    "    print(\"New synaptic weights after training: \");\n",
    "    print(neural_network.synaptic_weights);\n",
    "    \n",
    "    # New data prediction\n",
    "    print(\"Considering new situation [1, 0, 0] -> \");\n",
    "    print(neural_network_think(array([1,0,0])));"
   ]
  }
 ],
 "metadata": {
  "kernelspec": {
   "display_name": "Python 3",
   "language": "python",
   "name": "python3"
  },
  "language_info": {
   "codemirror_mode": {
    "name": "ipython",
    "version": 3
   },
   "file_extension": ".py",
   "mimetype": "text/x-python",
   "name": "python",
   "nbconvert_exporter": "python",
   "pygments_lexer": "ipython3",
   "version": "3.5.2"
  }
 },
 "nbformat": 4,
 "nbformat_minor": 2
}
